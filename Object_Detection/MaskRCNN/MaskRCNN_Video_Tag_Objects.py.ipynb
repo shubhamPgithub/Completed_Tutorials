{
 "cells": [
  {
   "cell_type": "code",
   "execution_count": 1,
   "metadata": {
    "colab": {
     "base_uri": "https://localhost:8080/",
     "height": 34
    },
    "colab_type": "code",
    "id": "Se9TKXWDT2Tm",
    "outputId": "b90eccea-1690-4501-f5aa-621440a8d639"
   },
   "outputs": [
    {
     "name": "stdout",
     "output_type": "stream",
     "text": [
      "/root\n"
     ]
    }
   ],
   "source": [
    "%cd"
   ]
  },
  {
   "cell_type": "code",
   "execution_count": 2,
   "metadata": {
    "colab": {
     "base_uri": "https://localhost:8080/",
     "height": 102
    },
    "colab_type": "code",
    "id": "XgTmqqJ2FF_O",
    "outputId": "eee117f5-116b-4a44-c7ac-cf406fac61a6"
   },
   "outputs": [
    {
     "name": "stdout",
     "output_type": "stream",
     "text": [
      "Cloning into 'Mask_RCNN'...\n",
      "remote: Enumerating objects: 956, done.\u001b[K\n",
      "remote: Total 956 (delta 0), reused 0 (delta 0), pack-reused 956\u001b[K\n",
      "Receiving objects: 100% (956/956), 111.81 MiB | 28.74 MiB/s, done.\n",
      "Resolving deltas: 100% (570/570), done.\n"
     ]
    }
   ],
   "source": [
    "!git clone https://github.com/matterport/Mask_RCNN.git"
   ]
  },
  {
   "cell_type": "code",
   "execution_count": 0,
   "metadata": {
    "colab": {},
    "colab_type": "code",
    "id": "0J3EIUeXFIk1"
   },
   "outputs": [],
   "source": [
    "import os\n",
    "import sys\n",
    "import random\n",
    "import math\n",
    "import numpy as np\n",
    "import skimage.io\n",
    "import matplotlib\n",
    "import matplotlib.pyplot as plt"
   ]
  },
  {
   "cell_type": "code",
   "execution_count": 0,
   "metadata": {
    "colab": {},
    "colab_type": "code",
    "id": "GaWP3i9PFQ1B"
   },
   "outputs": [],
   "source": [
    "import warnings\n",
    "warnings.filterwarnings(\"ignore\")"
   ]
  },
  {
   "cell_type": "code",
   "execution_count": 5,
   "metadata": {
    "colab": {
     "base_uri": "https://localhost:8080/",
     "height": 34
    },
    "colab_type": "code",
    "id": "WvXZfNANFTKB",
    "outputId": "b64c7772-3642-4ddd-9de9-4cc51a5713f6"
   },
   "outputs": [
    {
     "name": "stdout",
     "output_type": "stream",
     "text": [
      "/root/Mask_RCNN\n"
     ]
    }
   ],
   "source": [
    "# # Import Mask RCNN\n",
    "# sys.path.append('/content')  # To find local version of the library\n",
    "%cd ~/Mask_RCNN\n",
    "ROOT_DIR = os.path.abspath(\"../\")"
   ]
  },
  {
   "cell_type": "code",
   "execution_count": 6,
   "metadata": {
    "colab": {
     "base_uri": "https://localhost:8080/",
     "height": 97
    },
    "colab_type": "code",
    "id": "C91Ej3fuFcIX",
    "outputId": "1fcdd093-0a62-4b8e-cc74-227d9a3d6742"
   },
   "outputs": [
    {
     "data": {
      "text/html": [
       "<p style=\"color: red;\">\n",
       "The default version of TensorFlow in Colab will soon switch to TensorFlow 2.x.<br>\n",
       "We recommend you <a href=\"https://www.tensorflow.org/guide/migrate\" target=\"_blank\">upgrade</a> now \n",
       "or ensure your notebook will continue to use TensorFlow 1.x via the <code>%tensorflow_version 1.x</code> magic:\n",
       "<a href=\"https://colab.research.google.com/notebooks/tensorflow_version.ipynb\" target=\"_blank\">more info</a>.</p>\n"
      ],
      "text/plain": [
       "<IPython.core.display.HTML object>"
      ]
     },
     "metadata": {
      "tags": []
     },
     "output_type": "display_data"
    },
    {
     "name": "stderr",
     "output_type": "stream",
     "text": [
      "Using TensorFlow backend.\n"
     ]
    }
   ],
   "source": [
    "from mrcnn import utils\n",
    "import mrcnn.model as modellib\n",
    "from mrcnn import visualize"
   ]
  },
  {
   "cell_type": "code",
   "execution_count": 0,
   "metadata": {
    "colab": {},
    "colab_type": "code",
    "id": "TGmZy3ROFXMD"
   },
   "outputs": [],
   "source": [
    "# Import COCO config\n",
    "sys.path.append(os.path.join(\"/root/Mask_RCNN/samples/coco/\"))  # To find local version\n",
    "import coco"
   ]
  },
  {
   "cell_type": "code",
   "execution_count": 0,
   "metadata": {
    "colab": {},
    "colab_type": "code",
    "id": "SJqSNj1HF9Mw"
   },
   "outputs": [],
   "source": [
    "# Directory to save logs and trained model\n",
    "MODEL_DIR = os.path.join(ROOT_DIR, \"logs\")"
   ]
  },
  {
   "cell_type": "code",
   "execution_count": 9,
   "metadata": {
    "colab": {
     "base_uri": "https://localhost:8080/",
     "height": 51
    },
    "colab_type": "code",
    "id": "O2C9ne_GGEFp",
    "outputId": "74994498-d1f2-4bab-eda4-79bbe987b5fd"
   },
   "outputs": [
    {
     "name": "stdout",
     "output_type": "stream",
     "text": [
      "Downloading pretrained model to mask_rcnn_coco.h5 ...\n",
      "... done downloading pretrained model!\n"
     ]
    }
   ],
   "source": [
    "# Local path to trained weights file\n",
    "COCO_MODEL_PATH = os.path.join('', \"mask_rcnn_coco.h5\")\n",
    "\n",
    "# Download COCO trained weights from Releases if needed\n",
    "if not os.path.exists(COCO_MODEL_PATH):\n",
    "    utils.download_trained_weights(COCO_MODEL_PATH)\n",
    "\n",
    "# Directory of images to run detection on\n",
    "IMAGE_DIR = os.path.join(ROOT_DIR, \"images\")"
   ]
  },
  {
   "cell_type": "code",
   "execution_count": 0,
   "metadata": {
    "colab": {},
    "colab_type": "code",
    "id": "xcQh6DhnGMiw"
   },
   "outputs": [],
   "source": [
    "class InferenceConfig(coco.CocoConfig):\n",
    "    # Set batch size to 1 since we'll be running inference on\n",
    "    # one image at a time. Batch size = GPU_COUNT * IMAGES_PER_GPU\n",
    "    GPU_COUNT = 1\n",
    "    IMAGES_PER_GPU = 1\n",
    "\n",
    "config = InferenceConfig()\n"
   ]
  },
  {
   "cell_type": "code",
   "execution_count": 11,
   "metadata": {
    "colab": {
     "base_uri": "https://localhost:8080/",
     "height": 921
    },
    "colab_type": "code",
    "id": "2BJNblDZGVmq",
    "outputId": "5e4bd55c-3c43-48c5-b086-6a1968d00869"
   },
   "outputs": [
    {
     "name": "stdout",
     "output_type": "stream",
     "text": [
      "\n",
      "Configurations:\n",
      "BACKBONE                       resnet101\n",
      "BACKBONE_STRIDES               [4, 8, 16, 32, 64]\n",
      "BATCH_SIZE                     1\n",
      "BBOX_STD_DEV                   [0.1 0.1 0.2 0.2]\n",
      "COMPUTE_BACKBONE_SHAPE         None\n",
      "DETECTION_MAX_INSTANCES        100\n",
      "DETECTION_MIN_CONFIDENCE       0.7\n",
      "DETECTION_NMS_THRESHOLD        0.3\n",
      "FPN_CLASSIF_FC_LAYERS_SIZE     1024\n",
      "GPU_COUNT                      1\n",
      "GRADIENT_CLIP_NORM             5.0\n",
      "IMAGES_PER_GPU                 1\n",
      "IMAGE_CHANNEL_COUNT            3\n",
      "IMAGE_MAX_DIM                  1024\n",
      "IMAGE_META_SIZE                93\n",
      "IMAGE_MIN_DIM                  800\n",
      "IMAGE_MIN_SCALE                0\n",
      "IMAGE_RESIZE_MODE              square\n",
      "IMAGE_SHAPE                    [1024 1024    3]\n",
      "LEARNING_MOMENTUM              0.9\n",
      "LEARNING_RATE                  0.001\n",
      "LOSS_WEIGHTS                   {'rpn_class_loss': 1.0, 'rpn_bbox_loss': 1.0, 'mrcnn_class_loss': 1.0, 'mrcnn_bbox_loss': 1.0, 'mrcnn_mask_loss': 1.0}\n",
      "MASK_POOL_SIZE                 14\n",
      "MASK_SHAPE                     [28, 28]\n",
      "MAX_GT_INSTANCES               100\n",
      "MEAN_PIXEL                     [123.7 116.8 103.9]\n",
      "MINI_MASK_SHAPE                (56, 56)\n",
      "NAME                           coco\n",
      "NUM_CLASSES                    81\n",
      "POOL_SIZE                      7\n",
      "POST_NMS_ROIS_INFERENCE        1000\n",
      "POST_NMS_ROIS_TRAINING         2000\n",
      "PRE_NMS_LIMIT                  6000\n",
      "ROI_POSITIVE_RATIO             0.33\n",
      "RPN_ANCHOR_RATIOS              [0.5, 1, 2]\n",
      "RPN_ANCHOR_SCALES              (32, 64, 128, 256, 512)\n",
      "RPN_ANCHOR_STRIDE              1\n",
      "RPN_BBOX_STD_DEV               [0.1 0.1 0.2 0.2]\n",
      "RPN_NMS_THRESHOLD              0.7\n",
      "RPN_TRAIN_ANCHORS_PER_IMAGE    256\n",
      "STEPS_PER_EPOCH                1000\n",
      "TOP_DOWN_PYRAMID_SIZE          256\n",
      "TRAIN_BN                       False\n",
      "TRAIN_ROIS_PER_IMAGE           200\n",
      "USE_MINI_MASK                  True\n",
      "USE_RPN_ROIS                   True\n",
      "VALIDATION_STEPS               50\n",
      "WEIGHT_DECAY                   0.0001\n",
      "\n",
      "\n"
     ]
    }
   ],
   "source": [
    "config.display()"
   ]
  },
  {
   "cell_type": "code",
   "execution_count": 0,
   "metadata": {
    "colab": {},
    "colab_type": "code",
    "id": "30rGapiyGfXZ"
   },
   "outputs": [],
   "source": [
    "# Create model object in inference mode.\n",
    "model = modellib.MaskRCNN(mode=\"inference\", model_dir='mask_rcnn_coco.hy', config=config)\n",
    "\n",
    "# Load weights trained on MS-COCO\n",
    "model.load_weights('mask_rcnn_coco.h5', by_name=True)"
   ]
  },
  {
   "cell_type": "code",
   "execution_count": 0,
   "metadata": {
    "colab": {},
    "colab_type": "code",
    "id": "oX60-ZS9GkLi"
   },
   "outputs": [],
   "source": [
    "# COCO Class names\n",
    "class_names = ['BG', 'person', 'bicycle', 'car', 'motorcycle', 'airplane',\n",
    "               'bus', 'train', 'truck', 'boat', 'traffic light',\n",
    "               'fire hydrant', 'stop sign', 'parking meter', 'bench', 'bird',\n",
    "               'cat', 'dog', 'horse', 'sheep', 'cow', 'elephant', 'bear',\n",
    "               'zebra', 'giraffe', 'backpack', 'umbrella', 'handbag', 'tie',\n",
    "               'suitcase', 'frisbee', 'skis', 'snowboard', 'sports ball',\n",
    "               'kite', 'baseball bat', 'baseball glove', 'skateboard',\n",
    "               'surfboard', 'tennis racket', 'bottle', 'wine glass', 'cup',\n",
    "               'fork', 'knife', 'spoon', 'bowl', 'banana', 'apple',\n",
    "               'sandwich', 'orange', 'broccoli', 'carrot', 'hot dog', 'pizza',\n",
    "               'donut', 'cake', 'chair', 'couch', 'potted plant', 'bed',\n",
    "               'dining table', 'toilet', 'tv', 'laptop', 'mouse', 'remote',\n",
    "               'keyboard', 'cell phone', 'microwave', 'oven', 'toaster',\n",
    "               'sink', 'refrigerator', 'book', 'clock', 'vase', 'scissors',\n",
    "               'teddy bear', 'hair drier', 'toothbrush']\n",
    "# COCO Class names\n",
    "# class_names = ['person', 'bicycle', 'car', 'motorcycle', 'airplane',\n",
    "#                'bus', 'train', 'truck', 'boat', 'traffic light',\n",
    "#                'fire hydrant', 'stop sign', 'parking meter','bird',\n",
    "#                'cat', 'dog', 'horse', 'sheep', 'cow', 'elephant', 'bear']"
   ]
  },
  {
   "cell_type": "code",
   "execution_count": 0,
   "metadata": {
    "colab": {},
    "colab_type": "code",
    "id": "-kDG6TUKeIi5"
   },
   "outputs": [],
   "source": [
    "import cv2\n",
    "import time"
   ]
  },
  {
   "cell_type": "code",
   "execution_count": 0,
   "metadata": {
    "colab": {},
    "colab_type": "code",
    "id": "F8A3iILBdhL4"
   },
   "outputs": [],
   "source": [
    "def display_results(image, boxes, masks, class_ids, class_names, scores=None,\n",
    "                        show_mask=True, show_bbox=True, display_img=True,\n",
    "                        save_img=True, save_dir=None, img_name=None):\n",
    "        \"\"\"\n",
    "        boxes: [num_instance, (y1, x1, y2, x2, class_id)] in image coordinates.\n",
    "        masks: [height, width, num_instances]\n",
    "        class_ids: [num_instances]\n",
    "        class_names: list of class names of the dataset (Without Background)\n",
    "        scores: (optional) confidence scores for each box\n",
    "        show_mask, show_bbox: To show masks and bounding boxes or not\n",
    "        display_img: To display the image in popup\n",
    "        save_img: To save the predict image\n",
    "        save_dir: If save_img is True, the directory where you want to save the predict image\n",
    "        img_name: If save_img is True, the name of the predict image\n",
    "\n",
    "        \"\"\"\n",
    "        n_instances = boxes.shape[0]\n",
    "        colors = color_map()\n",
    "        for k in range(n_instances):\n",
    "            color = colors[class_ids[k]].astype(np.int)\n",
    "            if show_bbox:\n",
    "                box = boxes[k]\n",
    "                cls = class_names[class_ids[k]]  # Skip the Background\n",
    "                score = scores[k]\n",
    "                cv2.rectangle(image, (box[1], box[0]), (box[3], box[2]), 1)\n",
    "                font = cv2.FONT_HERSHEY_SIMPLEX\n",
    "                cv2.putText(image, '{}: {:.3f}'.format(cls, score), (box[1], box[0]),\n",
    "                            font, 0.4, (0, 255, 255), 1, cv2.LINE_AA)\n",
    "\n",
    "            if show_mask:\n",
    "                mask = masks[:, :, k]\n",
    "                color_mask = np.zeros((mask.shape[0], mask.shape[1], 3), dtype=np.int)\n",
    "                color_mask[mask] = color\n",
    "                image = cv2.addWeighted(color_mask, 0.5, image.astype(np.int), 1, 0)\n",
    "\n",
    "        if display_img:\n",
    "            plt.imshow(image)\n",
    "            plt.xticks([]), plt.yticks([])  # to hide tick values on X and Y axis\n",
    "            plt.show()\n",
    "        if save_img:\n",
    "            cv2.imwrite(os.path.join(save_dir, img_name), image)\n",
    "\n",
    "        return None"
   ]
  },
  {
   "cell_type": "code",
   "execution_count": 0,
   "metadata": {
    "colab": {},
    "colab_type": "code",
    "id": "bdpq0JGqeAvJ"
   },
   "outputs": [],
   "source": [
    "def color_map(N=256, normalized=False):\n",
    "        def bitget(byteval, idx):\n",
    "            return ((byteval & (1 << idx)) != 0)\n",
    "\n",
    "        dtype = 'float32' if normalized else 'uint8'\n",
    "        cmap = np.zeros((N, 3), dtype=dtype)\n",
    "        for i in range(N):\n",
    "            r = g = b = 0\n",
    "            c = i\n",
    "            for j in range(8):\n",
    "                r = r | (bitget(c, 0) << 7 - j)\n",
    "                g = g | (bitget(c, 1) << 7 - j)\n",
    "                b = b | (bitget(c, 2) << 7 - j)\n",
    "                c = c >> 3\n",
    "\n",
    "            cmap[i] = np.array([r, g, b])\n",
    "\n",
    "        cmap = cmap / 255 if normalized else cmap\n",
    "        return cmap"
   ]
  },
  {
   "cell_type": "code",
   "execution_count": 0,
   "metadata": {
    "colab": {},
    "colab_type": "code",
    "id": "3QPhrijrGvay"
   },
   "outputs": [],
   "source": [
    "# # Load a random image from the images folder\n",
    "image = skimage.io.imread('/root/Mask_RCNN/test1.jpg')\n",
    "\n",
    "# original image\n",
    "plt.figure(figsize=(12,10))\n",
    "skimage.io.imshow(image)"
   ]
  },
  {
   "cell_type": "code",
   "execution_count": 0,
   "metadata": {
    "colab": {},
    "colab_type": "code",
    "id": "7xpS50fTqWSh"
   },
   "outputs": [],
   "source": [
    "ROOT_DIR = os.getcwd()\n",
    "\n",
    "VIDEO_IMAGE_DIR = '/root/Mask_RCNN/processedIMG'\n",
    "VIDEO_SAVE_DIR = os.path.join(ROOT_DIR, 'NewVideo')\n",
    "VIDEO_FILE_DIR = '/root/Mask_RCNN'\n",
    "os.mkdir(VIDEO_SAVE_DIR)\n",
    "os.mkdir(VIDEO_IMAGE_DIR)"
   ]
  },
  {
   "cell_type": "code",
   "execution_count": 0,
   "metadata": {
    "colab": {},
    "colab_type": "code",
    "id": "cj0bp8gsc0FL"
   },
   "outputs": [],
   "source": [
    "# Run detection\n",
    "results = model.detect([image], verbose=1)\n",
    "# # Visualize results\n",
    "r = results[0]\n",
    "display_results(image, r['rois'], r['masks'], r['class_ids'], class_names, r['scores'],show_mask=False,display_img=False, save_dir= VIDEO_FILE_DIR,img_name = 'test1_out.jpg')\n",
    "\n",
    "# plt.savefig('/root/Mask_RCNN/test3_Out.jpg',bbox_inches='tight', pad_inches=-0.5,orientation= 'landscape')"
   ]
  },
  {
   "cell_type": "code",
   "execution_count": 0,
   "metadata": {
    "colab": {},
    "colab_type": "code",
    "id": "zyCk5GfmVNRf"
   },
   "outputs": [],
   "source": [
    "%cd"
   ]
  },
  {
   "cell_type": "markdown",
   "metadata": {
    "colab_type": "text",
    "id": "IAsAg1uhL9rq"
   },
   "source": [
    "\n",
    "\n",
    "---\n",
    "\n",
    "\n",
    "\n",
    "---\n",
    "\n",
    "\n",
    "\n",
    "---\n",
    "\n",
    "\n",
    "\n",
    "---\n",
    "\n"
   ]
  },
  {
   "cell_type": "code",
   "execution_count": 0,
   "metadata": {
    "colab": {},
    "colab_type": "code",
    "id": "ELPcGHkWJi43"
   },
   "outputs": [],
   "source": [
    "from tensorflow.python.client import device_lib\n",
    "device_lib.list_local_devices()"
   ]
  },
  {
   "cell_type": "code",
   "execution_count": 23,
   "metadata": {
    "colab": {
     "base_uri": "https://localhost:8080/",
     "height": 105
    },
    "colab_type": "code",
    "id": "QZ6eeBqeP2Ko",
    "outputId": "d0d5fb70-2246-42c9-da35-4557d9089e05"
   },
   "outputs": [
    {
     "name": "stdout",
     "output_type": "stream",
     "text": [
      "Collecting pytube\n",
      "  Downloading https://files.pythonhosted.org/packages/ee/00/62118c1e9e597aed08ddf7d9a6ca45ec95147367280aba73e8b82816fec1/pytube-9.5.3-py3-none-any.whl\n",
      "Installing collected packages: pytube\n",
      "Successfully installed pytube-9.5.3\n"
     ]
    }
   ],
   "source": [
    "pip install pytube"
   ]
  },
  {
   "cell_type": "code",
   "execution_count": 25,
   "metadata": {
    "colab": {
     "base_uri": "https://localhost:8080/",
     "height": 34
    },
    "colab_type": "code",
    "id": "aj3tAqt_Hnxo",
    "outputId": "d17c1a8c-a525-4b04-e24a-fbc6f1c2df5d"
   },
   "outputs": [
    {
     "name": "stdout",
     "output_type": "stream",
     "text": [
      "/root/Mask_RCNN\n"
     ]
    }
   ],
   "source": [
    "%cd /root/Mask_RCNN"
   ]
  },
  {
   "cell_type": "code",
   "execution_count": 59,
   "metadata": {
    "colab": {
     "base_uri": "https://localhost:8080/",
     "height": 34
    },
    "colab_type": "code",
    "id": "qOdy37EbP21n",
    "outputId": "ca515ca9-c8b1-46d4-a3c1-f753965109b4"
   },
   "outputs": [
    {
     "data": {
      "text/plain": [
       "'/root/Mask_RCNN/Test video for Object Detection  TRIDE.mp4'"
      ]
     },
     "execution_count": 59,
     "metadata": {
      "tags": []
     },
     "output_type": "execute_result"
    }
   ],
   "source": [
    "#importing the module \n",
    "import pytube\n",
    "  \n",
    "#where to save \n",
    "SAVE_PATH = \"/content\" #to_do \n",
    "  \n",
    "#link of the video to be downloaded https://youtu.be/SuWEtGYhdQs\n",
    "link = \"https://www.youtube.com/watch?v=pk96gqasGBQ\"\n",
    "# link=\"https://www.youtube.com/watch?v=Y1jTEyb3wiI\"\n",
    "  \n",
    "try: \n",
    "    #object creation using YouTube which was imported in the beginning \n",
    "    yt =pytube.YouTube(link) \n",
    "except: \n",
    "    print(\"Connection Error\") #to handle exception \n",
    "  \n",
    "# #filters out all the files with \"mp4\" extension \n",
    "# mp4files = yt.filter('mp4') \n",
    "stream = yt.streams.first()\n",
    "stream.download()  \n"
   ]
  },
  {
   "cell_type": "code",
   "execution_count": 0,
   "metadata": {
    "colab": {},
    "colab_type": "code",
    "id": "bjrSBKnjr89R"
   },
   "outputs": [],
   "source": [
    "frame_count = 0\n",
    "batch_size = 1\n",
    "frames = []\n",
    "capture = cv2.VideoCapture(os.path.join(VIDEO_FILE_DIR, 'test_video_1.mp4'))    \n",
    "while True:\n",
    "    ret, frame = capture.read()\n",
    "    # Bail out when the video file ends\n",
    "    if not ret:\n",
    "        break        \n",
    "    # Save each frame of the video to a list\n",
    "    frame_count += 1\n",
    "    frames.append(frame)\n",
    "    if len(frames) == batch_size:\n",
    "        results = model.detect(frames, verbose=0)\n",
    "        for i, item in enumerate(zip(frames, results)):\n",
    "            frame = item[0]\n",
    "            r = item[1]\n",
    "            # frame = visualize.display_instances(\n",
    "            #     frame, r['rois'], r['masks'], r['class_ids'], class_names, r['scores']\n",
    "            # );\n",
    "            print(frame_count)\n",
    "            name = '{0}.jpg'.format(frame_count + i - batch_size)\n",
    "            name = os.path.join(VIDEO_IMAGE_DIR, name)\n",
    "            display_results(frame, r['rois'], r['masks'], r['class_ids'], \n",
    "                            class_names, r['scores'],show_mask=False,display_img=False,\n",
    "                            save_img=True, save_dir= VIDEO_IMAGE_DIR,img_name = name)\n",
    "            cv2.imwrite(name, frame)\n",
    "        # Clear the frames array to start the next batch\n",
    "    frames = []"
   ]
  },
  {
   "cell_type": "code",
   "execution_count": 62,
   "metadata": {
    "colab": {
     "base_uri": "https://localhost:8080/",
     "height": 34
    },
    "colab_type": "code",
    "id": "H6E43NPkatUc",
    "outputId": "6c82fcf6-e833-49f4-cde6-d5c6398c265d"
   },
   "outputs": [
    {
     "name": "stdout",
     "output_type": "stream",
     "text": [
      "Frames per second using video.get(cv2.CAP_PROP_FPS) : 25.0\n"
     ]
    }
   ],
   "source": [
    "\n",
    "video = cv2.VideoCapture(os.path.join(VIDEO_FILE_DIR, 'test_video_1.mp4')) \n",
    "\n",
    "# Find OpenCV version\n",
    "(major_ver, minor_ver, subminor_ver) = (cv2.__version__).split('.')\n",
    "fps = video.get(cv2.CAP_PROP_FPS)\n",
    "print(\"Frames per second using video.get(cv2.CAP_PROP_FPS) : {0}\".format(fps))\n"
   ]
  },
  {
   "cell_type": "code",
   "execution_count": 0,
   "metadata": {
    "colab": {},
    "colab_type": "code",
    "id": "040x1hJ3ZcK2"
   },
   "outputs": [],
   "source": [
    "import glob"
   ]
  },
  {
   "cell_type": "code",
   "execution_count": 0,
   "metadata": {
    "colab": {},
    "colab_type": "code",
    "id": "WxrXxuTqZUOr"
   },
   "outputs": [],
   "source": [
    "# Get all image file paths to a list.\n",
    "images = list(glob.iglob(os.path.join(VIDEO_IMAGE_DIR, '*.*')))\n",
    "# Sort the images by name index.\n",
    "images = sorted(images, key=lambda x: float(os.path.split(x)[1][:-3]))\n",
    "images;"
   ]
  },
  {
   "cell_type": "code",
   "execution_count": 65,
   "metadata": {
    "colab": {
     "base_uri": "https://localhost:8080/",
     "height": 34
    },
    "colab_type": "code",
    "id": "GC5mutQZOxaG",
    "outputId": "4e1d2143-3f94-46d0-9b77-a8d491a59e86"
   },
   "outputs": [
    {
     "data": {
      "text/plain": [
       "(720, 1280, 3)"
      ]
     },
     "execution_count": 65,
     "metadata": {
      "tags": []
     },
     "output_type": "execute_result"
    }
   ],
   "source": [
    "img = cv2.imread(images[1])\n",
    "np.shape(img)"
   ]
  },
  {
   "cell_type": "code",
   "execution_count": 0,
   "metadata": {
    "colab": {},
    "colab_type": "code",
    "id": "URJ5rQrDZw76"
   },
   "outputs": [],
   "source": [
    "def make_video(outvid, images=None, fps=30, size=None,\n",
    "               is_color=True, format=\"FMP4\"):\n",
    "    \"\"\"\n",
    "    Create a video from a list of images.\n",
    " \n",
    "    @param      outvid      output video\n",
    "    @param      images      list of images to use in the video\n",
    "    @param      fps         frame per second\n",
    "    @param      size        size of each frame\n",
    "    @param      is_color    color\n",
    "    @param      format      see http://www.fourcc.org/codecs.php\n",
    "    @return                 see http://opencv-python-tutroals.readthedocs.org/en/latest/py_tutorials/py_gui/py_video_display/py_video_display.html\n",
    "    \"\"\"\n",
    "    from cv2 import VideoWriter, VideoWriter_fourcc, imread, resize\n",
    "    fourcc = VideoWriter_fourcc(*format)\n",
    "    vid = None\n",
    "    for image in images:\n",
    "        if not os.path.exists(image):\n",
    "            raise FileNotFoundError(image)\n",
    "        img = imread(image)\n",
    "        if vid is None:\n",
    "            if size is None:\n",
    "                size = img.shape[1], img.shape[0]\n",
    "            vid = VideoWriter(outvid, fourcc, float(fps), size, is_color)\n",
    "        if size[0] != img.shape[1] and size[1] != img.shape[0]:\n",
    "            img = resize(img, size)\n",
    "        vid.write(img)\n",
    "    vid.release()\n",
    "    return vid\n",
    "\n",
    "import glob\n",
    "import os\n"
   ]
  },
  {
   "cell_type": "code",
   "execution_count": 68,
   "metadata": {
    "colab": {
     "base_uri": "https://localhost:8080/",
     "height": 34
    },
    "colab_type": "code",
    "id": "DEI6vcgDaGB-",
    "outputId": "154271f2-f2ff-4682-e353-e3656ec9d8ce"
   },
   "outputs": [
    {
     "name": "stdout",
     "output_type": "stream",
     "text": [
      "/root/Mask_RCNN\n"
     ]
    }
   ],
   "source": [
    "%cd /root/Mask_RCNN"
   ]
  },
  {
   "cell_type": "code",
   "execution_count": 69,
   "metadata": {
    "colab": {
     "base_uri": "https://localhost:8080/",
     "height": 34
    },
    "colab_type": "code",
    "id": "Gyl-nKvcaAeo",
    "outputId": "33d14b6e-c409-4ad6-f01d-6d26d2258c8f"
   },
   "outputs": [
    {
     "data": {
      "text/plain": [
       "<VideoWriter 0x7efb5243d130>"
      ]
     },
     "execution_count": 69,
     "metadata": {
      "tags": []
     },
     "output_type": "execute_result"
    }
   ],
   "source": [
    "# Directory of images to run detection on\n",
    "# ROOT_DIR = os.getcwd()\n",
    "# VIDEO_IMAGE_DIR = '/root/Mask_RCNN/imagesFromVideo'\n",
    "# VIDEO_SAVE_DIR = os.path.join(ROOT_DIR, \"video/save\")\n",
    "# images = list(glob.iglob(os.path.join(VIDEO_IMAGE_DIR, '*.jpg')))\n",
    "# # Sort the images by integer index\n",
    "# images = sorted(images, key=lambda x: float(os.path.split(x)[1][:-3]))\n",
    "\n",
    "# outvid = os.path.join(VIDEO_SAVE_DIR,'out.mp4')\n",
    "make_video(outvid, images=images, fps=30, size=None,\n",
    "               is_color=True, format=\"FMP4\")"
   ]
  },
  {
   "cell_type": "code",
   "execution_count": 0,
   "metadata": {
    "colab": {},
    "colab_type": "code",
    "id": "6ajMQrUWvY39"
   },
   "outputs": [],
   "source": [
    "from google.colab import files\n",
    "files.download(outvid) "
   ]
  }
 ],
 "metadata": {
  "accelerator": "GPU",
  "colab": {
   "collapsed_sections": [],
   "name": "Welcome To Colaboratory",
   "provenance": [],
   "toc_visible": true
  },
  "kernelspec": {
   "display_name": "Python 3",
   "language": "python",
   "name": "python3"
  },
  "language_info": {
   "codemirror_mode": {
    "name": "ipython",
    "version": 3
   },
   "file_extension": ".py",
   "mimetype": "text/x-python",
   "name": "python",
   "nbconvert_exporter": "python",
   "pygments_lexer": "ipython3",
   "version": "3.7.1"
  }
 },
 "nbformat": 4,
 "nbformat_minor": 1
}
